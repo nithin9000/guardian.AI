{
 "cells": [
  {
   "cell_type": "code",
   "execution_count": null,
   "metadata": {},
   "outputs": [],
   "source": [
    "import os\n",
    "import numpy as np\n",
    "import tensorflow as tf\n",
    "from tensorflow.keras.preprocessing import image\n",
    "from tensorflow.keras.models import load_model"
   ]
  },
  {
   "cell_type": "code",
   "execution_count": 8,
   "metadata": {},
   "outputs": [],
   "source": [
    "def load_and_predict(model_path, image_path, class_names=None):\n",
    "    \"\"\"\n",
    "    Load a trained model and predict the class of a given image.\n",
    "    \n",
    "    Parameters:\n",
    "    - model_path: Path to the saved .keras model file\n",
    "    - image_path: Path to the image to be classified\n",
    "    - class_names: Optional list of class names (if not provided, will use indices)\n",
    "    \n",
    "    Returns:\n",
    "    - Predicted class name or index\n",
    "    - Confidence score\n",
    "    \"\"\"\n",
    "    # Load the model\n",
    "    model = load_model(model_path)\n",
    "    \n",
    "    # Load and preprocess the image\n",
    "    img = image.load_img(image_path, target_size=(224, 224))\n",
    "    img_array = image.img_to_array(img)\n",
    "    img_array = np.expand_dims(img_array, axis=0)\n",
    "    img_array /= 255.0  # Normalize pixel values\n",
    "    \n",
    "    # Make prediction\n",
    "    predictions = model.predict(img_array)\n",
    "\n",
    "    print(\"Actual Prediction : \", predictions)\n",
    "    \n",
    "    # Get the predicted class\n",
    "    predicted_class_index = np.argmax(predictions[0])\n",
    "    confidence_score = predictions[0][predicted_class_index]\n",
    "    \n",
    "    # Convert to class name if class names are provided\n",
    "    if class_names:\n",
    "        predicted_class = class_names[predicted_class_index]\n",
    "    else:\n",
    "        predicted_class = predicted_class_index\n",
    "    \n",
    "    return predicted_class, confidence_score"
   ]
  },
  {
   "cell_type": "code",
   "execution_count": 9,
   "metadata": {},
   "outputs": [],
   "source": [
    "def get_class_names(train_dir):\n",
    "    \"\"\"\n",
    "    Retrieve class names from the training directory.\n",
    "    \n",
    "    Parameters:\n",
    "    - train_dir: Path to the training directory\n",
    "    \n",
    "    Returns:\n",
    "    - List of class names\n",
    "    \"\"\"\n",
    "    return sorted(os.listdir(train_dir))"
   ]
  },
  {
   "cell_type": "code",
   "execution_count": 12,
   "metadata": {},
   "outputs": [],
   "source": [
    "def main(image):\n",
    "    # Paths (modify these as needed)\n",
    "    # model_path = 'final_densenet_model.h5'  # Path to your saved model\n",
    "    model_path = \"final_densenet_model.h5\"\n",
    "    image_path = image  # Path to the image you want to classify\n",
    "    train_dir = 'dataset3'  # Path to the training directory used during model creation\n",
    "    \n",
    "    # Get class names\n",
    "    class_names = get_class_names(train_dir)\n",
    "    \n",
    "    # Predict\n",
    "    predicted_class, confidence = load_and_predict(\n",
    "        model_path, \n",
    "        image_path, \n",
    "        class_names\n",
    "    )\n",
    "    \n",
    "    # Print results\n",
    "    print(f\"Predicted Class: {predicted_class}\")\n",
    "    print(f\"Confidence Score: {confidence * 100:.2f}%\")\n",
    "    \n",
    "    # Optional: Display prediction probabilities for all classes\n",
    "    # model = load_model(model_path)\n",
    "    \n",
    "    # # Load and preprocess the image\n",
    "    # img = image.load_img(image_path, target_size=(224, 224))\n",
    "    # img_array = image.img_to_array(img)\n",
    "    # img_array = np.expand_dims(img_array, axis=0)\n",
    "    # img_array /= 255.0\n",
    "    \n",
    "    # # Get full predictions\n",
    "    # predictions = model.predict(img_array)[0]\n",
    "    \n",
    "    # print(\"\\nFull Class Predictions:\")\n",
    "    # for name, prob in zip(class_names, predictions):\n",
    "    #     print(f\"{name}: {prob * 100:.2f}%\")"
   ]
  },
  {
   "cell_type": "code",
   "execution_count": 13,
   "metadata": {},
   "outputs": [
    {
     "name": "stderr",
     "output_type": "stream",
     "text": [
      "2024-11-28 12:01:37.659639: E external/local_xla/xla/stream_executor/cuda/cuda_driver.cc:152] failed call to cuInit: INTERNAL: CUDA error: Failed call to cuInit: UNKNOWN ERROR (303)\n",
      "WARNING:absl:Compiled the loaded model, but the compiled metrics have yet to be built. `model.compile_metrics` will be empty until you train or evaluate the model.\n"
     ]
    },
    {
     "name": "stdout",
     "output_type": "stream",
     "text": [
      "\u001b[1m1/1\u001b[0m \u001b[32m━━━━━━━━━━━━━━━━━━━━\u001b[0m\u001b[37m\u001b[0m \u001b[1m2s\u001b[0m 2s/step\n",
      "Actual Prediction :  [[0.03908089 0.96091914]]\n",
      "Predicted Class: real\n",
      "Confidence Score: 96.09%\n"
     ]
    }
   ],
   "source": [
    "main(\"04121.jpg\")"
   ]
  },
  {
   "cell_type": "code",
   "execution_count": null,
   "metadata": {},
   "outputs": [],
   "source": []
  }
 ],
 "metadata": {
  "kernelspec": {
   "display_name": "usr",
   "language": "python",
   "name": "python3"
  },
  "language_info": {
   "codemirror_mode": {
    "name": "ipython",
    "version": 3
   },
   "file_extension": ".py",
   "mimetype": "text/x-python",
   "name": "python",
   "nbconvert_exporter": "python",
   "pygments_lexer": "ipython3",
   "version": "3.10.12"
  }
 },
 "nbformat": 4,
 "nbformat_minor": 2
}
